{
 "cells": [
  {
   "cell_type": "code",
   "execution_count": 2,
   "id": "f0197c92",
   "metadata": {},
   "outputs": [],
   "source": [
    "import pandas as pd\n",
    "import psycopg2\n",
    "from psycopg2 import Error"
   ]
  },
  {
   "cell_type": "code",
   "execution_count": 13,
   "id": "8bad5e3b",
   "metadata": {},
   "outputs": [],
   "source": [
    "try:\n",
    "    #connect to an existing database\n",
    "    connection = psycopg2.connect(user='postgres',\n",
    "                                  password='clave',\n",
    "                                  host='localhost',\n",
    "                                  port='5432',\n",
    "                                  database='analysis'\n",
    "    )\n",
    "except(Exception, Error) as error:\n",
    "    print('Error while connecting to PostgreSQL', error)"
   ]
  },
  {
   "cell_type": "code",
   "execution_count": 16,
   "id": "18bb758e",
   "metadata": {},
   "outputs": [],
   "source": [
    "query = \"\"\"\n",
    "with muertes as (\n",
    "    select date(fecha_muerte) date, departamento_nom departamento, count(fecha_muerte) new_deaths\n",
    "    from covid_colombia\n",
    "    group by departamento_nom, date(fecha_muerte)\n",
    "    ),\n",
    "    casos as (\n",
    "    select date(fecha_hoy_casos) date, departamento_nom departamento, count(fecha_hoy_casos) new_cases\n",
    "    from covid_colombia\n",
    "    group by departamento_nom, date(fecha_hoy_casos)\n",
    "    )\n",
    "select c.date, c.departamento, c.new_cases, m.new_deaths, d.median_age, d.population\n",
    "from casos c\n",
    "left outer join muertes m\n",
    "on c.date = m.date and c.departamento = m.departamento\n",
    "inner join departamentos_csv d\n",
    "on c.departamento = d.departamento_nom;\n",
    "\n",
    "\"\"\""
   ]
  },
  {
   "cell_type": "code",
   "execution_count": 17,
   "id": "b8605d33",
   "metadata": {},
   "outputs": [],
   "source": [
    "df = pd.read_sql_query(query,connection)"
   ]
  },
  {
   "cell_type": "code",
   "execution_count": 18,
   "id": "f66a3409",
   "metadata": {},
   "outputs": [
    {
     "name": "stdout",
     "output_type": "stream",
     "text": [
      "<class 'pandas.core.frame.DataFrame'>\n",
      "RangeIndex: 11782 entries, 0 to 11781\n",
      "Data columns (total 6 columns):\n",
      " #   Column        Non-Null Count  Dtype  \n",
      "---  ------        --------------  -----  \n",
      " 0   date          11782 non-null  object \n",
      " 1   departamento  11782 non-null  object \n",
      " 2   new_cases     11782 non-null  int64  \n",
      " 3   new_deaths    8565 non-null   float64\n",
      " 4   median_age    11782 non-null  float64\n",
      " 5   population    11782 non-null  int64  \n",
      "dtypes: float64(2), int64(2), object(2)\n",
      "memory usage: 552.4+ KB\n"
     ]
    }
   ],
   "source": [
    "df.info()"
   ]
  },
  {
   "cell_type": "code",
   "execution_count": 19,
   "id": "2cf119e3",
   "metadata": {},
   "outputs": [],
   "source": [
    "df.to_csv('datos_col_departamento.csv')"
   ]
  },
  {
   "cell_type": "code",
   "execution_count": null,
   "id": "245d52b0",
   "metadata": {},
   "outputs": [],
   "source": []
  }
 ],
 "metadata": {
  "kernelspec": {
   "display_name": "Python 3",
   "language": "python",
   "name": "python3"
  },
  "language_info": {
   "codemirror_mode": {
    "name": "ipython",
    "version": 3
   },
   "file_extension": ".py",
   "mimetype": "text/x-python",
   "name": "python",
   "nbconvert_exporter": "python",
   "pygments_lexer": "ipython3",
   "version": "3.8.8"
  }
 },
 "nbformat": 4,
 "nbformat_minor": 5
}
